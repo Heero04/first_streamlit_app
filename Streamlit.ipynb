{
 "cells": [
  {
   "cell_type": "code",
   "execution_count": 1,
   "id": "28a38f5c-e4b4-421e-973c-f578a8c040a0",
   "metadata": {},
   "outputs": [
    {
     "name": "stdout",
     "output_type": "stream",
     "text": [
      "Overwriting app.py\n"
     ]
    }
   ],
   "source": [
    "%%writefile app.py\n",
    " \n",
    "import pickle\n",
    "import streamlit as st\n",
    "\n",
    "# loading the trained model\n",
    "pickle_in = open('classifier.pkl', 'rb') \n",
    "classifier = pickle.load(pickle_in)\n",
    " \n",
    "@st.cache()\n",
    "  "
   ]
  },
  {
   "cell_type": "code",
   "execution_count": 2,
   "id": "33fe83de-1991-4f51-a849-0da86d6e5788",
   "metadata": {},
   "outputs": [],
   "source": [
    "import streamlit\n",
    "import pandas\n",
    "import requests\n",
    "from urllib.error import URLError"
   ]
  },
  {
   "cell_type": "code",
   "execution_count": 4,
   "id": "ea404018-315d-4d15-8691-398621a467b0",
   "metadata": {},
   "outputs": [],
   "source": [
    "# defining the function which will make the prediction using the data which the user inputs \n",
    "def prediction(OWN_A_PROPERTY, INCOME, MARITAL_STATUS, TYPE_OF_HOUSING):   \n",
    " \n",
    "    # Pre-processing user input    \n",
    "    if OWN_A_PROPERTY== 'N':\n",
    "        OWN_A_PROPERTY = 0\n",
    "    else:\n",
    "        OWN_A_PROPERTY = 1\n",
    " \n",
    "    if INCOME >= 106827:\n",
    "         INCOME >= 106827\n",
    "    else:\n",
    "        INCOME =  0\n",
    " \n",
    "    if MARITAL_STATUS == 'Civil marriage':\n",
    "        MARITAL_STATUS = 0\n",
    "    \n",
    "    elif MARITAL_STATUS == 'Married':\n",
    "            MARITAL_STATUS = 1\n",
    "    \n",
    "    elif MARITAL_STATUS == 'Single / not married':\n",
    "            MARITAL_STATUS = 2\n",
    "    \n",
    "    elif MARITAL_STATUS == 'Separated':\n",
    "            MARITAL_STATUS = 3\n",
    "    \n",
    "    elif MARITAL_STATUS == 'Widow':\n",
    "            MARITAL_STATUS = 4\n",
    "    else:\n",
    "        MARITAL_STATUS = 5  \n",
    "    \n",
    "    if TYPE_OF_HOUSING == 'Rented apartment':\n",
    "        TYPE_OF_HOUSING = 0\n",
    "    \n",
    "    elif TYPE_OF_HOUSING == 'House / apartment':\n",
    "            TYPE_OF_HOUSING = 1\n",
    "\n",
    "    elif TYPE_OF_HOUSING == 'With parents':\n",
    "            TYPE_OF_HOUSING = 2\n",
    "            \n",
    "    elif TYPE_OF_HOUSING == 'Municipal apartment':\n",
    "           TYPE_OF_HOUSING = 3\n",
    "    \n",
    "    elif TYPE_OF_HOUSING == 'Co-op apartment':\n",
    "            TYPE_OF_HOUSING = 4\n",
    "    \n",
    "    elif TYPE_OF_HOUSING == 'Office apartment':\n",
    "            TYPE_OF_HOUSING = 5\n",
    "    else:\n",
    "        TYPE_OF_HOUSING = 6 \n",
    " \n",
    "  \n",
    "    # Making predictions \n",
    "    prediction = classifier.predict( \n",
    "        [[Gender, Married, ApplicantIncome, LoanAmount, Credit_History]])\n",
    "     \n",
    "    if prediction == 0:\n",
    "        pred = 'Rejected'\n",
    "    else:\n",
    "        pred = 'Approved'\n",
    "    return pred\n",
    "      "
   ]
  },
  {
   "cell_type": "code",
   "execution_count": 5,
   "id": "939807a0-2620-4f3d-8e6e-a76ea4748436",
   "metadata": {},
   "outputs": [],
   "source": [
    "# this is the main function in which we define our webpage  \n",
    "def main():       \n",
    "    # front end elements of the web page \n",
    "    html_temp = \"\"\" \n",
    "    <div style =\"background-color:yellow;padding:13px\"> \n",
    "    <h1 style =\"color:black;text-align:center;\">Streamlit Loan Prediction ML App</h1> \n",
    "    </div> \n",
    "    \"\"\"\n",
    "      \n",
    "    # display the front end aspect\n",
    "    st.markdown(html_temp, unsafe_allow_html = True) \n",
    "      \n",
    "    # following lines create boxes in which user can enter data required to make prediction \n",
    "    OWN_A_PROPERTY = st.selectbox('OWN_A_PROPERTY',(\"N\",\"Y\"))\n",
    "    MARITAL_STATUS = st.selectbox('Marital Status',(\"Civil marriage\",\"Married\",\"Single / not married\", \"Separated\", \"Widow\")) \n",
    "    INCOME = st.number_input(\"Applicants monthly income\") \n",
    "    TYPE_OF_HOUSING = st.selectbox('TYPE_OF_HOUSING',(\"Rented apartment\",\"House / apartment\",\"With parents\", \"Municipal apartment\", \"Co-op apartment\", \"Office apartment\"))\n",
    "    result =\"\"\n",
    "      \n",
    "    # when 'Predict' is clicked, make the prediction and store it \n",
    "    if st.button(\"Predict\"): \n",
    "        result = prediction(OWN_A_PROPERTY, INCOME, MARITAL_STATUS, TYPE_OF_HOUSING) \n",
    "        st.success('You are Approved')\n",
    "     \n"
   ]
  },
  {
   "cell_type": "code",
   "execution_count": null,
   "id": "2e4e5754-7d59-4f6c-89f4-207934d23ef3",
   "metadata": {},
   "outputs": [],
   "source": []
  }
 ],
 "metadata": {
  "kernelspec": {
   "display_name": "Python 3 (ipykernel)",
   "language": "python",
   "name": "python3"
  },
  "language_info": {
   "codemirror_mode": {
    "name": "ipython",
    "version": 3
   },
   "file_extension": ".py",
   "mimetype": "text/x-python",
   "name": "python",
   "nbconvert_exporter": "python",
   "pygments_lexer": "ipython3",
   "version": "3.8.13"
  }
 },
 "nbformat": 4,
 "nbformat_minor": 5
}
